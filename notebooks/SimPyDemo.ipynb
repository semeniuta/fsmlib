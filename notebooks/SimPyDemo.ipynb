{
 "cells": [
  {
   "cell_type": "markdown",
   "metadata": {},
   "source": [
    "Demostration of `fmslib` in combination with discrete event simulation in `SimPy`"
   ]
  },
  {
   "cell_type": "code",
   "execution_count": 1,
   "metadata": {},
   "outputs": [],
   "source": [
    "%matplotlib inline\n",
    "%load_ext autoreload\n",
    "%autoreload 2\n",
    "import sys, os"
   ]
  },
  {
   "cell_type": "code",
   "execution_count": 2,
   "metadata": {},
   "outputs": [],
   "source": [
    "sys.path.append('..')"
   ]
  },
  {
   "cell_type": "code",
   "execution_count": 3,
   "metadata": {},
   "outputs": [],
   "source": [
    "import simpy\n",
    "import random\n",
    "from fsmlib.fsm import FSM, get_random_next_event, parse_transition_func"
   ]
  },
  {
   "cell_type": "code",
   "execution_count": 4,
   "metadata": {
    "collapsed": true
   },
   "outputs": [],
   "source": [
    "def get_process(env, name, duration_func):\n",
    "    \n",
    "    def p_gen(env):\n",
    "        while True:\n",
    "            \n",
    "            t = duration_func()\n",
    "            print('[{0}] {1}_start'.format(env.now, name))\n",
    "            yield env.timeout(t)\n",
    "            print('[{0}] {1}_stop'.format(env.now, name))\n",
    "            \n",
    "    p = env.process(p_gen(env))\n",
    "    return p\n",
    "    "
   ]
  },
  {
   "cell_type": "code",
   "execution_count": 23,
   "metadata": {
    "scrolled": true
   },
   "outputs": [
    {
     "name": "stdout",
     "output_type": "stream",
     "text": [
      "[0] p1_start\n",
      "[0] p2_start\n",
      "[5] p1_stop\n",
      "[5] p1_start\n",
      "[5.211627717195494] p2_stop\n",
      "[5.211627717195494] p2_start\n",
      "[10] p1_stop\n",
      "[10] p1_start\n",
      "[10.865863888069887] p2_stop\n",
      "[10.865863888069887] p2_start\n",
      "[15] p1_stop\n",
      "[15] p1_start\n",
      "[16.727235559820826] p2_stop\n",
      "[16.727235559820826] p2_start\n"
     ]
    }
   ],
   "source": [
    "env1 = simpy.Environment()\n",
    "\n",
    "p1 = get_process(env1, 'p1', lambda: 5)\n",
    "p2 = get_process(env1, 'p2', lambda: 5 + random.random())\n",
    "\n",
    "env1.run(until=20)\n"
   ]
  },
  {
   "cell_type": "code",
   "execution_count": null,
   "metadata": {
    "collapsed": true
   },
   "outputs": [],
   "source": []
  },
  {
   "cell_type": "code",
   "execution_count": 14,
   "metadata": {
    "collapsed": true
   },
   "outputs": [],
   "source": [
    "class SimpleProcess:\n",
    "    '''\n",
    "    An independent process with the defined duration function\n",
    "    '''\n",
    "\n",
    "    def __init__(self, name, env, duration_func, fsm):\n",
    "        self.name = name\n",
    "        self.env = env\n",
    "        self.duration_func = duration_func\n",
    "        self.fsm = fsm\n",
    "        \n",
    "        self.stats = {'total_time': 0}\n",
    "        \n",
    "        self.action = env.process(self.p_gen())\n",
    "    \n",
    "    def p_gen(self):\n",
    "        while True:\n",
    "            \n",
    "            next_event = get_random_next_event(self.fsm)\n",
    "            next_state = self.fsm.transition_func[(self.fsm.current_state, next_event)]\n",
    "            \n",
    "            t = self.duration_func[next_state]()\n",
    "            self.stats['total_time'] += t\n",
    "            \n",
    "            self.fsm.advance(next_event)\n",
    "            \n",
    "            print('now={0:.4f}\\t {1}:{2}!->{3} (will take {4})'.format(self.env.now, self.name, next_event, self.fsm.current_state, t))\n",
    "            yield self.env.timeout(t)\n",
    "            \n",
    "    def print_event(self, event_name):\n",
    "        print('[{0}] {1}_{2}'.format(self.env.now, self.name, event_name))\n",
    "        \n",
    "class ResourceUser(SimpleProcess):\n",
    "    def process_cycle(self):\n",
    "        print('Hello')\n",
    "        super(ResourceUser, self).process_cycle()"
   ]
  },
  {
   "cell_type": "code",
   "execution_count": null,
   "metadata": {
    "collapsed": true
   },
   "outputs": [],
   "source": []
  },
  {
   "cell_type": "code",
   "execution_count": null,
   "metadata": {
    "collapsed": true
   },
   "outputs": [],
   "source": []
  },
  {
   "cell_type": "code",
   "execution_count": null,
   "metadata": {
    "collapsed": true
   },
   "outputs": [],
   "source": []
  },
  {
   "cell_type": "code",
   "execution_count": null,
   "metadata": {},
   "outputs": [],
   "source": []
  },
  {
   "cell_type": "code",
   "execution_count": null,
   "metadata": {
    "collapsed": true
   },
   "outputs": [],
   "source": []
  },
  {
   "cell_type": "code",
   "execution_count": 15,
   "metadata": {},
   "outputs": [
    {
     "name": "stdout",
     "output_type": "stream",
     "text": [
      "now=0.0000\t p1:start!->running (will take 5)\n",
      "now=0.0000\t p2:stop!->idle (will take 1)\n",
      "now=1.0000\t p2:start!->running (will take 5.544253987931847)\n",
      "now=5.0000\t p1:stop!->idle (will take 1)\n",
      "now=6.0000\t p1:start!->running (will take 5)\n",
      "now=6.5443\t p2:stop!->idle (will take 1)\n",
      "now=7.5443\t p2:start!->running (will take 5.99492565456087)\n",
      "now=11.0000\t p1:stop!->idle (will take 1)\n",
      "now=12.0000\t p1:start!->running (will take 5)\n",
      "now=13.5392\t p2:stop!->idle (will take 1)\n",
      "now=14.5392\t p2:start!->running (will take 5.1114202555462676)\n",
      "now=17.0000\t p1:stop!->idle (will take 1)\n",
      "now=18.0000\t p1:start!->running (will take 5)\n",
      "now=19.6506\t p2:stop!->idle (will take 1)\n",
      "now=20.6506\t p2:start!->running (will take 5.088153757087197)\n",
      "now=23.0000\t p1:stop!->idle (will take 1)\n",
      "now=24.0000\t p1:start!->running (will take 5)\n",
      "now=25.7388\t p2:stop!->idle (will take 1)\n",
      "now=26.7388\t p2:start!->running (will take 5.419299071779552)\n",
      "now=29.0000\t p1:stop!->idle (will take 1)\n",
      "now=30.0000\t p1:start!->running (will take 5)\n",
      "now=32.1581\t p2:stop!->idle (will take 1)\n",
      "now=33.1581\t p2:start!->running (will take 5.172648087263663)\n",
      "now=35.0000\t p1:stop!->idle (will take 1)\n",
      "now=36.0000\t p1:start!->running (will take 5)\n",
      "now=38.3307\t p2:stop!->idle (will take 1)\n",
      "now=39.3307\t p2:start!->running (will take 5.398683118899305)\n",
      "now=41.0000\t p1:stop!->idle (will take 1)\n",
      "now=42.0000\t p1:start!->running (will take 5)\n",
      "now=44.7294\t p2:stop!->idle (will take 1)\n",
      "now=45.7294\t p2:start!->running (will take 5.988383271498243)\n",
      "now=47.0000\t p1:stop!->idle (will take 1)\n",
      "now=48.0000\t p1:start!->running (will take 5)\n"
     ]
    }
   ],
   "source": [
    "env2 = simpy.Environment()\n",
    "\n",
    "simple_fsm = FSM('idle', {('idle', 'start'): 'running', ('running', 'stop'): 'idle'})\n",
    "\n",
    "p1 = SimpleProcess('p1', env2, {'idle': lambda: 1, 'running': lambda: 5}, simple_fsm)\n",
    "p2 = SimpleProcess('p2', env2, {'idle': lambda: 1, 'running': lambda: 5 + random.random()}, simple_fsm)\n",
    "\n",
    "env2.run(until=50)"
   ]
  },
  {
   "cell_type": "code",
   "execution_count": null,
   "metadata": {
    "collapsed": true
   },
   "outputs": [],
   "source": []
  },
  {
   "cell_type": "code",
   "execution_count": null,
   "metadata": {
    "collapsed": true
   },
   "outputs": [],
   "source": []
  },
  {
   "cell_type": "code",
   "execution_count": null,
   "metadata": {
    "collapsed": true
   },
   "outputs": [],
   "source": []
  },
  {
   "cell_type": "code",
   "execution_count": 16,
   "metadata": {},
   "outputs": [
    {
     "data": {
      "text/plain": [
       "({'total_time': 53}, {'total_time': 51.71776720456695})"
      ]
     },
     "execution_count": 16,
     "metadata": {},
     "output_type": "execute_result"
    }
   ],
   "source": [
    "p1.stats, p2.stats"
   ]
  },
  {
   "cell_type": "code",
   "execution_count": 17,
   "metadata": {
    "collapsed": true
   },
   "outputs": [],
   "source": [
    "env = simpy.Environment()\n",
    "rsc = simpy.Resource(env, capacity=1)"
   ]
  },
  {
   "cell_type": "code",
   "execution_count": null,
   "metadata": {
    "collapsed": true
   },
   "outputs": [],
   "source": []
  },
  {
   "cell_type": "code",
   "execution_count": 18,
   "metadata": {},
   "outputs": [
    {
     "name": "stdout",
     "output_type": "stream",
     "text": [
      "['a']\n",
      "['b', 'd']\n",
      "['c', 'e']\n"
     ]
    }
   ],
   "source": [
    "d1 = {'a': 1, 'b': 2, 'd': 4}\n",
    "d2 = {'a': 1, 'c': 12, 'e': 31}\n",
    "\n",
    "\n",
    "common = []\n",
    "diff1 = []\n",
    "diff2 = []\n",
    "for el in d1:\n",
    "    if el in d2:\n",
    "        common.append(el)\n",
    "    else:\n",
    "        diff1.append(el)\n",
    "\n",
    "for el in d2:\n",
    "    if el not in d1:\n",
    "        diff2.append(el)\n",
    "        \n",
    "print(common)\n",
    "print(diff1)\n",
    "print(diff2)\n"
   ]
  },
  {
   "cell_type": "code",
   "execution_count": null,
   "metadata": {},
   "outputs": [],
   "source": [
    "lst = [0, -10, 5, 6, -4]\n",
    "def f(i):\n",
    "    return i+2\n",
    "def g(i):\n",
    "    return i>5\n",
    "\n",
    "\n",
    "for el in lst:\n",
    "    incr = f(el)\n",
    "    print(incr, g(incr))"
   ]
  },
  {
   "cell_type": "code",
   "execution_count": 19,
   "metadata": {},
   "outputs": [
    {
     "data": {
      "text/plain": [
       "[1, 3, ['hello', 4, [[13.2, 45, 'world']], 'boo-ya!', 31], 12]"
      ]
     },
     "execution_count": 19,
     "metadata": {},
     "output_type": "execute_result"
    }
   ],
   "source": [
    "lst = [1, 3, ['hello', 4, [[13.2, 45, 'world']], 'boo-ya!', 31], 12]\n",
    "lst"
   ]
  },
  {
   "cell_type": "code",
   "execution_count": 20,
   "metadata": {},
   "outputs": [
    {
     "data": {
      "text/plain": [
       "[1, 3, 'hello', 4, 13.2, 45, 'world', 'boo-ya!', 31, 12]"
      ]
     },
     "execution_count": 20,
     "metadata": {},
     "output_type": "execute_result"
    }
   ],
   "source": [
    "def flat_list(lst):\n",
    "\n",
    "    new_list = []\n",
    "    for el in lst:\n",
    "        if not type(el) is list:\n",
    "            new_list.append(el)\n",
    "        else:\n",
    "            unwrapped = flat_list(el)\n",
    "            new_list = new_list + unwrapped\n",
    "    \n",
    "    return new_list\n",
    "            \n",
    "flat_list(lst)"
   ]
  },
  {
   "cell_type": "code",
   "execution_count": null,
   "metadata": {
    "collapsed": true
   },
   "outputs": [],
   "source": []
  },
  {
   "cell_type": "code",
   "execution_count": null,
   "metadata": {
    "collapsed": true
   },
   "outputs": [],
   "source": []
  }
 ],
 "metadata": {
  "anaconda-cloud": {},
  "kernelspec": {
   "display_name": "Python 3",
   "language": "python",
   "name": "python3"
  },
  "language_info": {
   "codemirror_mode": {
    "name": "ipython",
    "version": 3
   },
   "file_extension": ".py",
   "mimetype": "text/x-python",
   "name": "python",
   "nbconvert_exporter": "python",
   "pygments_lexer": "ipython3",
   "version": "3.6.1"
  }
 },
 "nbformat": 4,
 "nbformat_minor": 1
}
