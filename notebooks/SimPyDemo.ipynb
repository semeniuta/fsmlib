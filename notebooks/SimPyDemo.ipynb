{
 "cells": [
  {
   "cell_type": "markdown",
   "metadata": {},
   "source": [
    "Demostration of `fmslib` in combination with discrete event simulation in `SimPy`"
   ]
  },
  {
   "cell_type": "code",
   "execution_count": 1,
   "metadata": {},
   "outputs": [],
   "source": [
    "%matplotlib inline\n",
    "%load_ext autoreload\n",
    "%autoreload 2\n",
    "import sys, os"
   ]
  },
  {
   "cell_type": "code",
   "execution_count": 2,
   "metadata": {
    "collapsed": true
   },
   "outputs": [],
   "source": [
    "sys.path.append('..')"
   ]
  },
  {
   "cell_type": "code",
   "execution_count": 3,
   "metadata": {},
   "outputs": [],
   "source": [
    "import simpy\n",
    "import random\n",
    "from fsmlib import FSM, get_random_next_event, parse_transition_func"
   ]
  },
  {
   "cell_type": "markdown",
   "metadata": {},
   "source": [
    "## SimPy example with Python generators"
   ]
  },
  {
   "cell_type": "code",
   "execution_count": 4,
   "metadata": {
    "collapsed": true
   },
   "outputs": [],
   "source": [
    "def get_process(env, name, duration_func):\n",
    "    \n",
    "    def p_gen(env):\n",
    "        while True:\n",
    "            \n",
    "            t = duration_func()\n",
    "            print('[{0}] {1}_start'.format(env.now, name))\n",
    "            yield env.timeout(t)\n",
    "            print('[{0}] {1}_stop'.format(env.now, name))\n",
    "            \n",
    "    p = env.process(p_gen(env))\n",
    "    return p\n",
    "    "
   ]
  },
  {
   "cell_type": "code",
   "execution_count": 5,
   "metadata": {
    "scrolled": true
   },
   "outputs": [
    {
     "name": "stdout",
     "output_type": "stream",
     "text": [
      "[0] p1_start\n",
      "[0] p2_start\n",
      "[5] p1_stop\n",
      "[5] p1_start\n",
      "[5.462763980373588] p2_stop\n",
      "[5.462763980373588] p2_start\n",
      "[10] p1_stop\n",
      "[10] p1_start\n",
      "[11.411369878300102] p2_stop\n",
      "[11.411369878300102] p2_start\n",
      "[15] p1_stop\n",
      "[15] p1_start\n",
      "[16.91863003143355] p2_stop\n",
      "[16.91863003143355] p2_start\n"
     ]
    }
   ],
   "source": [
    "env1 = simpy.Environment()\n",
    "\n",
    "p1 = get_process(env1, 'p1', lambda: 5)\n",
    "p2 = get_process(env1, 'p2', lambda: 5 + random.random())\n",
    "\n",
    "env1.run(until=20)\n"
   ]
  },
  {
   "cell_type": "markdown",
   "metadata": {
    "collapsed": true
   },
   "source": [
    "## SimPy example with a generator inside a class and an `FSM` object"
   ]
  },
  {
   "cell_type": "code",
   "execution_count": 6,
   "metadata": {
    "collapsed": true
   },
   "outputs": [],
   "source": [
    "class SimpleProcess:\n",
    "    '''\n",
    "    An independent process with the defined duration function\n",
    "    '''\n",
    "\n",
    "    def __init__(self, name, env, duration_func, fsm):\n",
    "        \n",
    "        self.name = name\n",
    "        self.env = env\n",
    "        self.duration_func = duration_func\n",
    "        self.fsm = fsm\n",
    "        \n",
    "        self.stats = {'total_time': 0}\n",
    "        \n",
    "        self.action = env.process(self.p_gen())\n",
    "    \n",
    "    def p_gen(self):\n",
    "        \n",
    "        while True:\n",
    "            \n",
    "            next_event = get_random_next_event(self.fsm)\n",
    "            next_state = self.fsm.transition_func[(self.fsm.current_state, next_event)]\n",
    "            \n",
    "            t = self.duration_func[next_state]()\n",
    "            self.stats['total_time'] += t\n",
    "            \n",
    "            self.fsm.advance(next_event)\n",
    "            \n",
    "            print('now={0:.4f}\\t {1}:{2}!->{3} (will take {4})'.format(self.env.now, self.name, next_event, self.fsm.current_state, t))\n",
    "            yield self.env.timeout(t)\n",
    "            \n",
    "    def print_event(self, event_name):\n",
    "        print('[{0}] {1}_{2}'.format(self.env.now, self.name, event_name))"
   ]
  },
  {
   "cell_type": "code",
   "execution_count": 7,
   "metadata": {},
   "outputs": [
    {
     "name": "stdout",
     "output_type": "stream",
     "text": [
      "now=0.0000\t p1:start!->running (will take 5)\n",
      "now=0.0000\t p2:stop!->idle (will take 1)\n",
      "now=1.0000\t p2:start!->running (will take 5.3360928585173)\n",
      "now=5.0000\t p1:stop!->idle (will take 1)\n",
      "now=6.0000\t p1:start!->running (will take 5)\n",
      "now=6.3361\t p2:stop!->idle (will take 1)\n",
      "now=7.3361\t p2:start!->running (will take 5.068513508279528)\n",
      "now=11.0000\t p1:stop!->idle (will take 1)\n",
      "now=12.0000\t p1:start!->running (will take 5)\n",
      "now=12.4046\t p2:stop!->idle (will take 1)\n",
      "now=13.4046\t p2:start!->running (will take 5.638551790977366)\n",
      "now=17.0000\t p1:stop!->idle (will take 1)\n",
      "now=18.0000\t p1:start!->running (will take 5)\n",
      "now=19.0432\t p2:stop!->idle (will take 1)\n",
      "now=20.0432\t p2:start!->running (will take 5.205986330142965)\n",
      "now=23.0000\t p1:stop!->idle (will take 1)\n",
      "now=24.0000\t p1:start!->running (will take 5)\n",
      "now=25.2491\t p2:stop!->idle (will take 1)\n",
      "now=26.2491\t p2:start!->running (will take 5.619401617324347)\n",
      "now=29.0000\t p1:stop!->idle (will take 1)\n",
      "now=30.0000\t p1:start!->running (will take 5)\n",
      "now=31.8685\t p2:stop!->idle (will take 1)\n",
      "now=32.8685\t p2:start!->running (will take 5.089093851158351)\n",
      "now=35.0000\t p1:stop!->idle (will take 1)\n",
      "now=36.0000\t p1:start!->running (will take 5)\n",
      "now=37.9576\t p2:stop!->idle (will take 1)\n",
      "now=38.9576\t p2:start!->running (will take 5.59011205265212)\n",
      "now=41.0000\t p1:stop!->idle (will take 1)\n",
      "now=42.0000\t p1:start!->running (will take 5)\n",
      "now=44.5478\t p2:stop!->idle (will take 1)\n",
      "now=45.5478\t p2:start!->running (will take 5.812979739233051)\n",
      "now=47.0000\t p1:stop!->idle (will take 1)\n",
      "now=48.0000\t p1:start!->running (will take 5)\n"
     ]
    }
   ],
   "source": [
    "env2 = simpy.Environment()\n",
    "\n",
    "simple_fsm = FSM('idle', {('idle', 'start'): 'running', ('running', 'stop'): 'idle'})\n",
    "\n",
    "p1 = SimpleProcess('p1', env2, {'idle': lambda: 1, 'running': lambda: 5}, simple_fsm)\n",
    "p2 = SimpleProcess('p2', env2, {'idle': lambda: 1, 'running': lambda: 5 + random.random()}, simple_fsm)\n",
    "\n",
    "env2.run(until=50)"
   ]
  },
  {
   "cell_type": "code",
   "execution_count": null,
   "metadata": {
    "collapsed": true
   },
   "outputs": [],
   "source": []
  },
  {
   "cell_type": "code",
   "execution_count": 8,
   "metadata": {},
   "outputs": [
    {
     "data": {
      "text/plain": [
       "({'total_time': 53}, {'total_time': 51.360731748285026})"
      ]
     },
     "execution_count": 8,
     "metadata": {},
     "output_type": "execute_result"
    }
   ],
   "source": [
    "p1.stats, p2.stats"
   ]
  },
  {
   "cell_type": "markdown",
   "metadata": {
    "collapsed": true
   },
   "source": [
    "## Example with resources"
   ]
  },
  {
   "cell_type": "code",
   "execution_count": 9,
   "metadata": {
    "collapsed": true
   },
   "outputs": [],
   "source": [
    "class ResourceUser(SimpleProcess):\n",
    "    def process_cycle(self):\n",
    "        print('Hello')\n",
    "        super(ResourceUser, self).process_cycle()"
   ]
  },
  {
   "cell_type": "code",
   "execution_count": 10,
   "metadata": {
    "collapsed": true
   },
   "outputs": [],
   "source": [
    "env = simpy.Environment()\n",
    "rsc = simpy.Resource(env, capacity=1)"
   ]
  },
  {
   "cell_type": "code",
   "execution_count": 11,
   "metadata": {
    "collapsed": true
   },
   "outputs": [],
   "source": [
    "# TODO ..."
   ]
  },
  {
   "cell_type": "code",
   "execution_count": null,
   "metadata": {
    "collapsed": true
   },
   "outputs": [],
   "source": []
  }
 ],
 "metadata": {
  "anaconda-cloud": {},
  "kernelspec": {
   "display_name": "Python 3",
   "language": "python",
   "name": "python3"
  },
  "language_info": {
   "codemirror_mode": {
    "name": "ipython",
    "version": 3
   },
   "file_extension": ".py",
   "mimetype": "text/x-python",
   "name": "python",
   "nbconvert_exporter": "python",
   "pygments_lexer": "ipython3",
   "version": "3.6.1"
  }
 },
 "nbformat": 4,
 "nbformat_minor": 1
}
